{
 "cells": [
  {
   "cell_type": "code",
   "execution_count": null,
   "metadata": {},
   "outputs": [],
   "source": [
    "'''Using Biopython Module for analysis of PSI-Blast Output\n",
    "   Bio.Blast.NCBIXML Module is used to parse and read XML Blast data into Record.Blast object.\n",
    "'''\n",
    "from Bio.Blast import NCBIXML\n",
    "# Importing Pandas to crreate a data frame and to convert Dataframe to CSV File\n",
    "import pandas as pd\n",
    "\n",
    "#Function Definition\n",
    "def getdf(fpath):\n",
    "    with open(fpath) as xml_file:\n",
    "        # NCBIXML.parse function is used to access XML BLAST Output information such as sequences,alignments and more.\n",
    "        blastrec = NCBIXML.parse(xml_file)\n",
    "        \n",
    "        data = []\n",
    "        #looping through each blast record in parsed XML file\n",
    "        for record in blastrec:\n",
    "            #Looping through each alignment in each individual Blast Record which contains one BLAST Query Result\n",
    "            for alignment in record.alignments:\n",
    "                #Looping through each HSP within each alignment\n",
    "                for hsp in alignment.hsps:\n",
    "                    data.append({\n",
    "                        \"Protein Accession ID\": alignment.accession,\n",
    "                        \"Protein Name and Description\": alignment.title,\n",
    "                        \"Alignment Length\": hsp.align_length,\n",
    "                        \"Start Query\": hsp.query_start,\n",
    "                        \"End Query\": hsp.query_end,\n",
    "                        \"Start Hit\": hsp.sbjct_start,\n",
    "                        \"End Hit\": hsp.sbjct_end,\n",
    "                        \"Identity\": hsp.identities\n",
    "                    })   \n",
    "        df = pd.DataFrame(data) #Data List is converted into DataFrame\n",
    "        df.to_csv(\"psi_blast.csv\", index=False) # DataFrame is converted into a CSV format file\n",
    "        return df\n",
    "\n",
    "#Function calling\n",
    "d = getdf(fpath=\"C:\\\\Users\\\\nandi\\\\Desktop\\\\Assignment\\\\BSHDHBWV016-Alignment.xml\")\n",
    "print(d)\n"
   ]
  },
  {
   "cell_type": "markdown",
   "metadata": {},
   "source": [
    "References : \n",
    "1. https://biopython.org/docs/1.76/api/Bio.Blast.NCBIXML.html\n",
    "2. https://www.biostars.org/p/95101/#95161\n",
    "3. https://biopython.org/docs/dev/api/Bio.Blast.NCBIXML.html\n",
    "3. ChatGPT\n",
    "\n"
   ]
  }
 ],
 "metadata": {
  "kernelspec": {
   "display_name": "Python 3",
   "language": "python",
   "name": "python3"
  },
  "language_info": {
   "codemirror_mode": {
    "name": "ipython",
    "version": 3
   },
   "file_extension": ".py",
   "mimetype": "text/x-python",
   "name": "python",
   "nbconvert_exporter": "python",
   "pygments_lexer": "ipython3",
   "version": "3.12.4"
  }
 },
 "nbformat": 4,
 "nbformat_minor": 2
}
