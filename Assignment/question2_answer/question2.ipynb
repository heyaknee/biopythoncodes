{
 "cells": [
  {
   "cell_type": "code",
   "execution_count": null,
   "metadata": {},
   "outputs": [],
   "source": [
    "#Importing Pandas to read excel files\n",
    "import pandas as pd\n",
    "df=pd.read_excel(\"C:\\\\Users\\\\nandi\\\\Desktop\\\\Assignment\\\\lab2_breast_cancer.xlsx\")\n",
    "# .isnull().sum() is used to check for the total number of NULL values intially\n",
    "print(df[\"tumor_size\"].isnull().sum())\n",
    "print(df)\n",
    "# To fill the .fillna function to substitute empty values\n",
    "# Using Mean imputation method where mean value of columns to fill empty or NaN values\n",
    "df['tumor_size'].fillna(df['tumor_size'].mean(),inplace=True)\n",
    "#Saving the imputed data to a new excel file\n",
    "df.to_excel(\"imputedata.xlsx\",index=False)\n",
    "dff=pd.read_excel(\"imputedata.xlsx\")\n",
    "# .isnull().sum() is used to check for the total number of NULL values after imputation using mean method\n",
    "print(dff[\"tumor_size\"].isnull().sum())\n",
    "print(dff)"
   ]
  },
  {
   "cell_type": "markdown",
   "metadata": {},
   "source": [
    "References:\n",
    "\n",
    "1. https://www.machinelearningplus.com/machine-learning/missing-data-imputation-how-to-handle-missing-values-in-python/\n",
    "\n",
    "2. https://www.analyticsvidhya.com/blog/2021/05/dealing-with-missing-values-in-python-a-complete-guide/\n",
    "\n"
   ]
  }
 ],
 "metadata": {
  "kernelspec": {
   "display_name": "Python 3",
   "language": "python",
   "name": "python3"
  },
  "language_info": {
   "codemirror_mode": {
    "name": "ipython",
    "version": 3
   },
   "file_extension": ".py",
   "mimetype": "text/x-python",
   "name": "python",
   "nbconvert_exporter": "python",
   "pygments_lexer": "ipython3",
   "version": "3.12.4"
  }
 },
 "nbformat": 4,
 "nbformat_minor": 2
}
